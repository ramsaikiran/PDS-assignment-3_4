{
 "cells": [
  {
   "cell_type": "code",
   "execution_count": 1,
   "id": "830ad84e",
   "metadata": {},
   "outputs": [
    {
     "name": "stdout",
     "output_type": "stream",
     "text": [
      "Requirement already satisfied: requests in c:\\users\\tejap\\anaconda3\\lib\\site-packages (2.28.1)Note: you may need to restart the kernel to use updated packages.\n",
      "\n",
      "Requirement already satisfied: urllib3<1.27,>=1.21.1 in c:\\users\\tejap\\anaconda3\\lib\\site-packages (from requests) (1.26.14)\n",
      "Requirement already satisfied: certifi>=2017.4.17 in c:\\users\\tejap\\anaconda3\\lib\\site-packages (from requests) (2022.12.7)\n",
      "Requirement already satisfied: idna<4,>=2.5 in c:\\users\\tejap\\anaconda3\\lib\\site-packages (from requests) (3.4)\n",
      "Requirement already satisfied: charset-normalizer<3,>=2 in c:\\users\\tejap\\anaconda3\\lib\\site-packages (from requests) (2.0.4)\n"
     ]
    }
   ],
   "source": [
    "pip install requests"
   ]
  },
  {
   "cell_type": "code",
   "execution_count": 2,
   "id": "433d3de3",
   "metadata": {},
   "outputs": [
    {
     "name": "stdout",
     "output_type": "stream",
     "text": [
      "Requirement already satisfied: dash in c:\\users\\tejap\\anaconda3\\lib\\site-packages (2.16.1)\n",
      "Requirement already satisfied: Werkzeug<3.1 in c:\\users\\tejap\\anaconda3\\lib\\site-packages (from dash) (2.2.2)\n",
      "Requirement already satisfied: typing-extensions>=4.1.1 in c:\\users\\tejap\\anaconda3\\lib\\site-packages (from dash) (4.4.0)\n",
      "Requirement already satisfied: Flask<3.1,>=1.0.4 in c:\\users\\tejap\\anaconda3\\lib\\site-packages (from dash) (2.2.2)\n",
      "Requirement already satisfied: requests in c:\\users\\tejap\\anaconda3\\lib\\site-packages (from dash) (2.28.1)\n",
      "Requirement already satisfied: plotly>=5.0.0 in c:\\users\\tejap\\anaconda3\\lib\\site-packages (from dash) (5.9.0)\n",
      "Requirement already satisfied: importlib-metadata in c:\\users\\tejap\\anaconda3\\lib\\site-packages (from dash) (4.11.3)\n",
      "Requirement already satisfied: nest-asyncio in c:\\users\\tejap\\anaconda3\\lib\\site-packages (from dash) (1.5.6)\n",
      "Requirement already satisfied: dash-core-components==2.0.0 in c:\\users\\tejap\\anaconda3\\lib\\site-packages (from dash) (2.0.0)\n",
      "Requirement already satisfied: retrying in c:\\users\\tejap\\anaconda3\\lib\\site-packages (from dash) (1.3.4)\n",
      "Requirement already satisfied: setuptools in c:\\users\\tejap\\anaconda3\\lib\\site-packages (from dash) (65.6.3)\n",
      "Requirement already satisfied: dash-html-components==2.0.0 in c:\\users\\tejap\\anaconda3\\lib\\site-packages (from dash) (2.0.0)\n",
      "Requirement already satisfied: dash-table==5.0.0 in c:\\users\\tejap\\anaconda3\\lib\\site-packages (from dash) (5.0.0)\n",
      "Requirement already satisfied: itsdangerous>=2.0 in c:\\users\\tejap\\anaconda3\\lib\\site-packages (from Flask<3.1,>=1.0.4->dash) (2.0.1)\n",
      "Requirement already satisfied: Jinja2>=3.0 in c:\\users\\tejap\\anaconda3\\lib\\site-packages (from Flask<3.1,>=1.0.4->dash) (3.1.2)\n",
      "Requirement already satisfied: click>=8.0 in c:\\users\\tejap\\anaconda3\\lib\\site-packages (from Flask<3.1,>=1.0.4->dash) (8.0.4)\n",
      "Requirement already satisfied: tenacity>=6.2.0 in c:\\users\\tejap\\anaconda3\\lib\\site-packages (from plotly>=5.0.0->dash) (8.0.1)\n",
      "Requirement already satisfied: MarkupSafe>=2.1.1 in c:\\users\\tejap\\anaconda3\\lib\\site-packages (from Werkzeug<3.1->dash) (2.1.1)\n",
      "Requirement already satisfied: zipp>=0.5 in c:\\users\\tejap\\anaconda3\\lib\\site-packages (from importlib-metadata->dash) (3.11.0)\n",
      "Requirement already satisfied: charset-normalizer<3,>=2 in c:\\users\\tejap\\anaconda3\\lib\\site-packages (from requests->dash) (2.0.4)\n",
      "Requirement already satisfied: urllib3<1.27,>=1.21.1 in c:\\users\\tejap\\anaconda3\\lib\\site-packages (from requests->dash) (1.26.14)\n",
      "Requirement already satisfied: idna<4,>=2.5 in c:\\users\\tejap\\anaconda3\\lib\\site-packages (from requests->dash) (3.4)\n",
      "Requirement already satisfied: certifi>=2017.4.17 in c:\\users\\tejap\\anaconda3\\lib\\site-packages (from requests->dash) (2022.12.7)\n",
      "Requirement already satisfied: six>=1.7.0 in c:\\users\\tejap\\anaconda3\\lib\\site-packages (from retrying->dash) (1.16.0)\n",
      "Requirement already satisfied: colorama in c:\\users\\tejap\\anaconda3\\lib\\site-packages (from click>=8.0->Flask<3.1,>=1.0.4->dash) (0.4.6)\n",
      "Note: you may need to restart the kernel to use updated packages.\n"
     ]
    }
   ],
   "source": [
    "pip install dash"
   ]
  },
  {
   "cell_type": "code",
   "execution_count": 12,
   "id": "10514017",
   "metadata": {},
   "outputs": [
    {
     "name": "stdout",
     "output_type": "stream",
     "text": [
      "{'message': '200: Success', 'Source': '1_ws_gh', 'PropertyAddress': {'streetAddress': '3071 Imperial St', 'city': 'Jacksonville', 'state': 'FL', 'zipcode': '32254', 'neighborhood': None, 'community': None, 'subdivision': None}, 'zestimate': 122900, 'Bedrooms': 3, 'Bathrooms': 1, 'Area(sqft)': 1054, 'PropertyZPID': 44466838, 'Price': 67000, 'yearBuilt': 1943, 'daysOnZillow': 29, 'PropertyZillowURL': 'https://www.zillow.com/homedetails/44466838_zpid/'}\n"
     ]
    }
   ],
   "source": [
    "import requests\n",
    "\n",
    "url = \"https://zillow-working-api.p.rapidapi.com/byzpid\"\n",
    "\n",
    "querystring = {\"zpid\":\"44466838\"}\n",
    "\n",
    "headers = {\n",
    "    \"X-RapidAPI-Key\": \"3c4d2c162cmsh9395ec7d1f50e25p14a878jsn1544b50816e0\",\n",
    "    \"X-RapidAPI-Host\": \"zillow-working-api.p.rapidapi.com\"\n",
    "}\n",
    "\n",
    "response = requests.get(url, headers=headers, params=querystring)\n",
    "\n",
    "print(response.json())"
   ]
  },
  {
   "cell_type": "code",
   "execution_count": 15,
   "id": "76c81f38",
   "metadata": {},
   "outputs": [
    {
     "data": {
      "text/html": [
       "\n",
       "        <iframe\n",
       "            width=\"100%\"\n",
       "            height=\"650\"\n",
       "            src=\"http://127.0.0.1:8052/\"\n",
       "            frameborder=\"0\"\n",
       "            allowfullscreen\n",
       "            \n",
       "        ></iframe>\n",
       "        "
      ],
      "text/plain": [
       "<IPython.lib.display.IFrame at 0x1d8ec7acfa0>"
      ]
     },
     "metadata": {},
     "output_type": "display_data"
    }
   ],
   "source": [
    "import dash\n",
    "import dash_core_components as dcc\n",
    "import dash_html_components as html\n",
    "from dash.dependencies import Input, Output\n",
    "import plotly.graph_objs as go\n",
    "import requests\n",
    "\n",
    "# Fetch data from the API\n",
    "url = \"https://zillow-working-api.p.rapidapi.com/byzpid\"\n",
    "querystring = {\"zpid\": \"44466838\"}\n",
    "headers = {\n",
    "    \"X-RapidAPI-Key\": \"3c4d2c162cmsh9395ec7d1f50e25p14a878jsn1544b50816e0\",\n",
    "    \"X-RapidAPI-Host\": \"zillow-working-api.p.rapidapi.com\"\n",
    "}\n",
    "response = requests.get(url, headers=headers, params=querystring)\n",
    "data = response.json()\n",
    "\n",
    "# Initialize the Dash app\n",
    "app = dash.Dash(__name__)\n",
    "\n",
    "# Define the layout of the dashboard\n",
    "app.layout = html.Div([\n",
    "    html.H1(\"Zillow Property Data\"),\n",
    "    html.Div([\n",
    "        html.H3(\"Property Address\"),\n",
    "        html.P(f\"Street: {data['PropertyAddress']['streetAddress']}\"),\n",
    "        html.P(f\"City: {data['PropertyAddress']['city']}\"),\n",
    "        html.P(f\"State: {data['PropertyAddress']['state']}\"),\n",
    "        html.P(f\"Zipcode: {data['PropertyAddress']['zipcode']}\"),\n",
    "    ]),\n",
    "    html.Div([\n",
    "        html.H3(\"Property Details\"),\n",
    "        html.P(f\"Zestimate: ${data['zestimate']}\"),\n",
    "        html.P(f\"Bedrooms: {data['Bedrooms']}\"),\n",
    "        html.P(f\"Bathrooms: {data['Bathrooms']}\"),\n",
    "        html.P(f\"Area(sqft): {data['Area(sqft)']}\"),\n",
    "        html.P(f\"Price: ${data['Price']}\"),\n",
    "        html.P(f\"Year Built: {data['yearBuilt']}\"),\n",
    "        html.P(f\"Days on Zillow: {data['daysOnZillow']}\"),\n",
    "        html.A(\"Property Zillow URL\", href=data['PropertyZillowURL']),\n",
    "    ]),\n",
    "    html.Div([\n",
    "        html.H3(\"Data Visualization\"),\n",
    "        dcc.Graph(\n",
    "            id='property-chart'\n",
    "        )\n",
    "    ])\n",
    "])\n",
    "\n",
    "# Define callback to update the graph based on user input (if needed)\n",
    "@app.callback(\n",
    "    Output('property-chart', 'figure'),\n",
    "    [Input('property-chart', 'hoverData')]\n",
    ")\n",
    "def update_graph(hoverData):\n",
    "    # Update the graph based on user input (if needed)\n",
    "    # For example, change the graph based on the selected data point\n",
    "    pass\n",
    "\n",
    "# Run the app\n",
    "if __name__ == '__main__':\n",
    "    app.run_server(debug=True, port = 8052)\n"
   ]
  },
  {
   "cell_type": "code",
   "execution_count": null,
   "id": "f42bfb27",
   "metadata": {},
   "outputs": [],
   "source": []
  }
 ],
 "metadata": {
  "kernelspec": {
   "display_name": "Python 3 (ipykernel)",
   "language": "python",
   "name": "python3"
  },
  "language_info": {
   "codemirror_mode": {
    "name": "ipython",
    "version": 3
   },
   "file_extension": ".py",
   "mimetype": "text/x-python",
   "name": "python",
   "nbconvert_exporter": "python",
   "pygments_lexer": "ipython3",
   "version": "3.10.9"
  }
 },
 "nbformat": 4,
 "nbformat_minor": 5
}
